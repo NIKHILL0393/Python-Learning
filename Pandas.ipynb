{
 "cells": [
  {
   "cell_type": "code",
   "execution_count": null,
   "id": "f85eeb5b-2520-4c65-8914-39b39aa7f907",
   "metadata": {},
   "outputs": [],
   "source": [
    "#Pandas(used to analyze data)\n",
    "# has functions for analyzing, cleaning, exploring and manipulating data\n",
    "\n",
    "#Why Use Pandas?\n",
    "#can clean messy data sets, and make them readable and relevant\n",
    "\n",
    "#What Can Pandas Do?\n",
    "#Is there a correlation between two or more columns?\n",
    "#What is average value?\n",
    "#Max value?\n",
    "#Min value?\n"
   ]
  },
  {
   "cell_type": "code",
   "execution_count": 2,
   "id": "5b83336b-eb66-4112-bc46-7039e9c0a70f",
   "metadata": {},
   "outputs": [
    {
     "name": "stdout",
     "output_type": "stream",
     "text": [
      "    cars  passings\n",
      "0    BMW         3\n",
      "1  Volvo         7\n",
      "2   Ford         2\n"
     ]
    }
   ],
   "source": [
    "#PANDAS\n",
    "import pandas\n",
    "dataset = {\n",
    "  'cars': [\"BMW\", \"Volvo\", \"Ford\"],\n",
    "  'passings': [3, 7, 2]\n",
    "}\n",
    "var = pandas.DataFrame(dataset)\n",
    "print(var)"
   ]
  },
  {
   "cell_type": "code",
   "execution_count": 4,
   "id": "25a660b2-dbef-4d42-b1dd-5829f55556d8",
   "metadata": {},
   "outputs": [
    {
     "name": "stdout",
     "output_type": "stream",
     "text": [
      "0    3\n",
      "1    5\n",
      "2    7\n",
      "3    9\n",
      "dtype: int64\n"
     ]
    }
   ],
   "source": [
    "# Series(one-dimensional array holding data of any type)\n",
    "import pandas as pd\n",
    "a =[3,5,7,9]\n",
    "int=pd.Series(a)\n",
    "print(int)"
   ]
  },
  {
   "cell_type": "code",
   "execution_count": 8,
   "id": "73b45b35-02fa-40db-a6ce-3bfa318c530c",
   "metadata": {},
   "outputs": [
    {
     "name": "stdout",
     "output_type": "stream",
     "text": [
      "d    4\n",
      "f    5\n",
      "e    6\n",
      "d    8\n",
      "r    7\n",
      "i    9\n",
      "dtype: int64\n",
      "9\n"
     ]
    }
   ],
   "source": [
    "#labels(If nothing else is specified, the values are labeled with their index number)\n",
    "import pandas\n",
    "a=[4,5,6,8,7,9]\n",
    "int=pd.Series(a,index=[\"d\",\"f\",\"e\",\"d\",\"r\",\"i\"])\n",
    "print(int)\n",
    "print(int[\"i\"])                       "
   ]
  },
  {
   "cell_type": "code",
   "execution_count": 10,
   "id": "43545b65-e655-44f2-b439-c4dbd5b61894",
   "metadata": {},
   "outputs": [
    {
     "name": "stdout",
     "output_type": "stream",
     "text": [
      "      name  age\n",
      "0     ajay   23\n",
      "1    manoj   35\n",
      "2  sparash   32\n"
     ]
    }
   ],
   "source": [
    "# DataFrame ( a 2 dimensional data structure)\n",
    "import pandas as pd\n",
    "data ={\n",
    "    \"name\":[\"ajay\",\"manoj\",\"sparash\"],\n",
    "   \"age\":[23,35,32] \n",
    "}\n",
    "df=pd.DataFrame(data)\n",
    "print(df)(2 dimensional data structure)\n",
    "import pandas as pd\n",
    "data ={\n",
    "    \"name\":[\"ajay\",\"manoj\",\"sparash\"],\n",
    "   \"age\":[23,35,32] \n",
    "}\n",
    "df=pd.DataFrame(data)\n",
    "print(df)"
   ]
  },
  {
   "cell_type": "code",
   "execution_count": 12,
   "id": "9027861f-b066-450b-9f9c-3c51c2669846",
   "metadata": {},
   "outputs": [
    {
     "name": "stdout",
     "output_type": "stream",
     "text": [
      "           name  age\n",
      "first      ajay   23\n",
      "second    manoj   35\n",
      "third   sparash   32\n",
      "name    manoj\n",
      "age        35\n",
      "Name: second, dtype: object\n"
     ]
    }
   ],
   "source": [
    "# DataFrame(loc)\n",
    "import pandas as pd\n",
    "data ={\n",
    "    \"name\":[\"ajay\",\"manoj\",\"sparash\"],\n",
    "   \"age\":[23,35,32] \n",
    "}\n",
    "df=pd.DataFrame(data,index=[\"first\",\"second\",\"third\"])\n",
    "print(df)\n",
    "print(df.loc[\"second\"])"
   ]
  },
  {
   "cell_type": "code",
   "execution_count": 37,
   "id": "4a0dc295-16ec-40f8-83e1-afe8e704da06",
   "metadata": {},
   "outputs": [
    {
     "name": "stdout",
     "output_type": "stream",
     "text": [
      "   roll no  age  marks  citcode\n",
      "0        1   21     34     1030\n",
      "1        2   43     53     2424\n",
      "2        3   56     65     4355\n",
      "3        4   34     75     3434\n",
      "4        5   32     87     4243\n",
      "5        6   12     87     4352\n",
      "6        7   54     35     8777\n",
      "7        8   24     65     6587\n"
     ]
    }
   ],
   "source": [
    "#Read CSV Files\n",
    "import pandas as pd\n",
    "dis={\n",
    "    \"roll no\":[1,2,3,4,5,6,7,8],\n",
    "    \"age\":[21,43,56,34,32,12,54,24],\n",
    "    \"marks\":[34,53,65,75,87,87,35,65],\n",
    "    \"citcode\":[1030,2424,4355,3434,4243,4352,8777,6587]\n",
    "}\n",
    "z=pd.DataFrame(dis)\n",
    "print(z)\n",
    "z.to_csv(\"hello.csv\")\n"
   ]
  },
  {
   "cell_type": "code",
   "execution_count": 38,
   "id": "008a7ec1-3f8d-470b-8495-e8f8845b66d5",
   "metadata": {},
   "outputs": [
    {
     "name": "stdout",
     "output_type": "stream",
     "text": [
      "   Unnamed: 0  roll no  age  marks  citcode\n",
      "0           0        1   21     34     1030\n",
      "1           1        2   43     53     2424\n",
      "2           2        3   56     65     4355\n",
      "3           3        4   34     75     3434\n",
      "4           4        5   32     87     4243\n",
      "5           5        6   12     87     4352\n",
      "6           6        7   54     35     8777\n",
      "7           7        8   24     65     6587\n"
     ]
    }
   ],
   "source": [
    "#Read CSV Files()\n",
    "#to_string():use to print the entire DataFrame.\n",
    "import pandas as pd\n",
    "df = pd.read_csv('hello.csv')\n",
    "print(df.to_string())"
   ]
  },
  {
   "cell_type": "code",
   "execution_count": 39,
   "id": "a85d05aa-afff-4ef7-91dd-061109dd7734",
   "metadata": {},
   "outputs": [
    {
     "name": "stdout",
     "output_type": "stream",
     "text": [
      "60\n"
     ]
    }
   ],
   "source": [
    "#max_rows(number of rows)\n",
    "import pandas as pd\n",
    "print(pd.options.display.max_rows) "
   ]
  },
  {
   "cell_type": "code",
   "execution_count": null,
   "id": "eb78c843-6d06-4d4e-8d09-55c1b824e8e3",
   "metadata": {},
   "outputs": [],
   "source": [
    "#Read JSON\n",
    "import pandas as pd\n",
    "df = pd.read_json('hello.json')\n",
    "print(df.to_string())"
   ]
  },
  {
   "cell_type": "code",
   "execution_count": 11,
   "id": "e9954d3d-0d85-40a5-bb38-99c446d03013",
   "metadata": {},
   "outputs": [
    {
     "name": "stdout",
     "output_type": "stream",
     "text": [
      "   Duration  Pulse  Maxpulse  Calories\n",
      "0        60    110       130       409\n",
      "1        60    117       145       479\n",
      "2        60    103       135       340\n",
      "3        45    109       175       282\n",
      "4        45    117       148       406\n",
      "5        60    102       127       300\n"
     ]
    }
   ],
   "source": [
    "#Dictionary as JSON(JSON = Python Dictionary)\n",
    "import pandas as pd\n",
    "data = {\n",
    "  \"Duration\":{\n",
    "    \"0\":60,\n",
    "    \"1\":60,\n",
    "    \"2\":60,\n",
    "    \"3\":45,\n",
    "    \"4\":45,\n",
    "    \"5\":60\n",
    "  },\n",
    "  \"Pulse\":{\n",
    "    \"0\":110,\n",
    "    \"1\":117,\n",
    "    \"2\":103,\n",
    "    \"3\":109,\n",
    "    \"4\":117,\n",
    "    \"5\":102\n",
    "  },\n",
    "  \"Maxpulse\":{\n",
    "    \"0\":130,\n",
    "    \"1\":145,\n",
    "    \"2\":135,\n",
    "    \"3\":175,\n",
    "    \"4\":148,\n",
    "    \"5\":127\n",
    "  },\n",
    "  \"Calories\":{\n",
    "    \"0\":409,\n",
    "    \"1\":479,\n",
    "    \"2\":340,\n",
    "    \"3\":282,\n",
    "    \"4\":406,\n",
    "    \"5\":300\n",
    "  }\n",
    "}\n",
    "df = pd.DataFrame(data)\n",
    "print(df) \n",
    "\n"
   ]
  },
  {
   "cell_type": "code",
   "execution_count": 35,
   "id": "679c1544-6544-4e3c-811a-5ee6042b8baa",
   "metadata": {},
   "outputs": [
    {
     "name": "stdout",
     "output_type": "stream",
     "text": [
      "   Unnamed: 0  roll no  age  marks  city code\n",
      "0           0        1   21     34       1030\n",
      "1           1        2   43     53       2424\n",
      "2           2        3   56     65       4355\n",
      "3           3        4   34     75       3434\n",
      "4           4        5   32     87       4243\n",
      "   Unnamed: 0  roll no  age  marks  city code\n",
      "3           3        4   34     75       3434\n",
      "4           4        5   32     87       4243\n",
      "5           5        6   12     87       4352\n",
      "6           6        7   54     35       8777\n",
      "7           7        8   24     65       6587\n"
     ]
    }
   ],
   "source": [
    "#Analyzing DataFrames\n",
    "#Viewing the Data\n",
    "import pandas as pd\n",
    "df = pd.read_csv('hello.csv')\n",
    "#first 5 rows of the DataFrame\n",
    "print(df.head())\n",
    "# last 5 rows of the DataFrame\n",
    "print(df.tail()) \n"
   ]
  },
  {
   "cell_type": "code",
   "execution_count": 36,
   "id": "63b6eb07-b0e7-49b1-a1c0-f8f70e88a6de",
   "metadata": {},
   "outputs": [
    {
     "data": {
      "image/png": "[encoded data removed]",
      "text/plain": [
       "<Figure size 640x480 with 1 Axes>"
      ]
     },
     "metadata": {},
     "output_type": "display_data"
    }
   ],
   "source": [
    "#plotting(to create diagrams)\n",
    "import pandas as pd\n",
    "import matplotlib.pyplot as plt\n",
    "df = pd.read_csv('hello.csv')\n",
    "df.plot()\n",
    "plt.show()"
   ]
  },
  {
   "cell_type": "code",
   "execution_count": 23,
   "id": "30fab62d-d30b-4517-9c3f-42bfeb41b4f4",
   "metadata": {},
   "outputs": [
    {
     "data": {
      "image/png": "[encoded data removed]",
      "text/plain": [
       "<Figure size 640x480 with 1 Axes>"
      ]
     },
     "metadata": {},
     "output_type": "display_data"
    }
   ],
   "source": [
    "#Scatter Plot(needs an x- and a y-axis,x = 'Duration', y = 'Calories')\n",
    "import pandas as pd\n",
    "import matplotlib.pyplot as plt\n",
    "df = pd.read_csv('hello.csv')\n",
    "df.plot(kind = 'scatter', x = 'marks', y = 'age')\n",
    "plt.show()"
   ]
  },
  {
   "cell_type": "code",
   "execution_count": 24,
   "id": "fcfc4a27-28c8-444a-8c0d-807dc29bfcf5",
   "metadata": {},
   "outputs": [
    {
     "data": {
      "image/png": "[encoded data removed]",
      "text/plain": [
       "<Figure size 640x480 with 1 Axes>"
      ]
     },
     "metadata": {},
     "output_type": "display_data"
    }
   ],
   "source": [
    "#histogram(needs only one column,shows us the frequency of each interval)\n",
    "import pandas as pd\n",
    "import matplotlib.pyplot as plt\n",
    "df = pd.read_csv('hello.csv')\n",
    "df[\"marks\"].plot(kind = 'hist')\n",
    "plt.show()"
   ]
  },
  {
   "cell_type": "code",
   "execution_count": 33,
   "id": "c918eb59-b178-4dea-84fa-2d0312e3d7e6",
   "metadata": {},
   "outputs": [
    {
     "name": "stdout",
     "output_type": "stream",
     "text": [
      "            Unnamed: 0   roll no       age     marks  city code\n",
      "Unnamed: 0    1.000000  1.000000 -0.107897  0.287429   0.869982\n",
      "roll no       1.000000  1.000000 -0.107897  0.287429   0.869982\n",
      "age          -0.107897 -0.107897  1.000000 -0.360853   0.350312\n",
      "marks         0.287429  0.287429 -0.360853  1.000000  -0.049589\n",
      "city code     0.869982  0.869982  0.350312 -0.049589   1.000000\n"
     ]
    }
   ],
   "source": [
    "#Data Correlations(corr())\n",
    "#calculates the relationship between each column in your data set\n",
    "import pandas as pd\n",
    "df = pd.read_csv('hello.csv')\n",
    "print(df.corr())"
   ]
  },
  {
   "cell_type": "code",
   "execution_count": 76,
   "id": "7ccdbb91-714e-4b5e-aa9d-56a5a776c80b",
   "metadata": {},
   "outputs": [
    {
     "name": "stdout",
     "output_type": "stream",
     "text": [
      "   Duration  Pulse  calories  age  date\n",
      "0        61    310       310   11    11\n",
      "1        60    117       553   17     7\n",
      "2        60    117       553   17     7\n",
      "3        45    109       509   19     9\n",
      "4        35    509       509   19     4\n",
      "5       103    102       102   12     2\n"
     ]
    }
   ],
   "source": [
    "#Cleaning Data( fixing bad data in your data set)\n",
    "import pandas as pd\n",
    "data = {\n",
    "  \"Duration\":{\"0\":61,\"1\":60,\"2\":60,\"3\":45,\"4\":35,\"5\":103\n",
    "  },\n",
    "  \"Pulse\":{\n",
    "    \"0\":310,  \"1\":117,\"2\":117, \"3\":109,\"4\":509, \"5\":102\n",
    "  } , \"calories\":{\n",
    "    \"0\":310,  \"1\":553 ,\"2\":553, \"3\":509,\"4\":509, \"5\":102\n",
    "  }  ,\"age\":{\n",
    "    \"0\":11,  \"1\":17,\"2\":17, \"3\":19,\"4\":19, \"5\":12\n",
    "  }  ,\"date\":{\n",
    "    \"0\":11,  \"1\":7,\"2\":7, \"3\":9,\"4\":4, \"5\":2\n",
    "}\n",
    "}\n",
    "z=pd.DataFrame(data)\n",
    "print(z)\n",
    "z.to_csv(\"abc.csv\")"
   ]
  },
  {
   "cell_type": "code",
   "execution_count": 61,
   "id": "d2c161cd-c304-447d-8a9f-94473ec9bc9a",
   "metadata": {},
   "outputs": [
    {
     "name": "stdout",
     "output_type": "stream",
     "text": [
      "   Unnamed: 0  Duration  Pulse  calories  age  date\n",
      "0           0        60    110       310   11    11\n",
      "1           1        60    117       434   17     7\n",
      "2           2        60    103       403   13     3\n",
      "3           3        45    109       509   19     9\n",
      "4           4        45    109       509   19     4\n",
      "5           5       103    102        12   12     2\n",
      "   Unnamed: 0  Duration  Pulse  calories  age  date\n",
      "0           0        60    110       310   11    11\n",
      "1           1        60    117       434   17     7\n",
      "2           2        60    103       403   13     3\n",
      "3           3        45    109       509   19     9\n",
      "4           4        45    109       509   19     4\n",
      "5           5       103    102        12   12     2\n"
     ]
    }
   ],
   "source": [
    "#Cleaning Data( fixing bad data in your data set)\n",
    "#Cleaning Empty Cells\n",
    "#remove rows(dropna:returns a new DataFrame, and will not change the original)\n",
    "import pandas as pd\n",
    "df = pd.read_csv('abc.csv')\n",
    "new_df = df.dropna()\n",
    "print(new_df.to_string())\n",
    "#inplace:it will remove all rows containing NULL values from the original DataFrame\n",
    "df.dropna(inplace = True)\n",
    "print(df.to_string())"
   ]
  },
  {
   "cell_type": "code",
   "execution_count": 66,
   "id": "f4b3fa5d-efc6-40d9-b2d8-7eca4faa7dd7",
   "metadata": {},
   "outputs": [
    {
     "name": "stderr",
     "output_type": "stream",
     "text": [
      "C:\\Users\\Hp\\AppData\\Local\\Temp\\ipykernel_8200\\195279606.py:9: FutureWarning: A value is trying to be set on a copy of a DataFrame or Series through chained assignment using an inplace method.\n",
      "The behavior will change in pandas 3.0. This inplace method will never work because the intermediate object on which we are setting values always behaves as a copy.\n",
      "\n",
      "For example, when doing 'df[col].method(value, inplace=True)', try using 'df.method({col: value}, inplace=True)' or df[col] = df[col].method(value) instead, to perform the operation inplace on the original object.\n",
      "\n",
      "\n",
      "  df[\"calories\"].fillna(130, inplace = True)\n"
     ]
    }
   ],
   "source": [
    "#Replace Empty Values(insert a new value)\n",
    "import pandas as pd\n",
    "df = pd.read_csv('abc.csv')\n",
    "df.fillna(130, inplace = True)\n",
    "\n",
    "#Replace Only For Specified Columns\n",
    "import pandas as pd\n",
    "df = pd.read_csv('abc.csv')\n",
    "df[\"calories\"].fillna(130, inplace = True)"
   ]
  },
  {
   "cell_type": "code",
   "execution_count": 67,
   "id": "96d53801-9533-47db-aeee-fc611337c77e",
   "metadata": {},
   "outputs": [
    {
     "name": "stdout",
     "output_type": "stream",
     "text": [
      "   Unnamed: 0  Duration  Pulse  calories  age                          date\n",
      "0           0        60    110       310   11 1970-01-01 00:00:00.000000011\n",
      "1           1        60    117       434   17 1970-01-01 00:00:00.000000007\n",
      "2           2        60    103       403   13 1970-01-01 00:00:00.000000003\n",
      "3           3        45    109       509   19 1970-01-01 00:00:00.000000009\n",
      "4           4        45    109       509   19 1970-01-01 00:00:00.000000004\n",
      "5           5       103    102        12   12 1970-01-01 00:00:00.000000002\n",
      "   Unnamed: 0  Duration  Pulse  calories  age                          date\n",
      "0           0        60    110       310   11 1970-01-01 00:00:00.000000011\n",
      "1           1        60    117       434   17 1970-01-01 00:00:00.000000007\n",
      "2           2        60    103       403   13 1970-01-01 00:00:00.000000003\n",
      "3           3        45    109       509   19 1970-01-01 00:00:00.000000009\n",
      "4           4        45    109       509   19 1970-01-01 00:00:00.000000004\n",
      "5           5       103    102        12   12 1970-01-01 00:00:00.000000002\n"
     ]
    }
   ],
   "source": [
    "#Data of Wrong Format(Cells with data of wrong format can make it difficult, or even impossible, to analyze data)\n",
    "#remove row\n",
    "import pandas as pd\n",
    "df = pd.read_csv('abc.csv')\n",
    "df['date'] = pd.to_datetime(df['date'])\n",
    "df.dropna(subset=['date'], inplace = True)\n",
    "print(df.to_string())\n",
    "\n",
    "#Convert Into a Correct Format\n",
    "import pandas as pd\n",
    "df = pd.read_csv('abc.csv')\n",
    "df['date'] = pd.to_datetime(df['date'])\n",
    "print(df.to_string())"
   ]
  },
  {
   "cell_type": "code",
   "execution_count": 68,
   "id": "b54b0050-4c52-47c6-a2a4-da3de5f2c122",
   "metadata": {},
   "outputs": [
    {
     "name": "stdout",
     "output_type": "stream",
     "text": [
      "   Unnamed: 0  Duration  Pulse  calories  age  date\n",
      "0           0        60    110       310   11    11\n",
      "1           1        60    117       434   17     7\n",
      "2           2        60    103       403   13     3\n",
      "3           3        45    109       509   19     9\n",
      "4           4        45    109       509   19     4\n",
      "5           5       103    102       445   12     2\n"
     ]
    }
   ],
   "source": [
    "#Fixing Wrong Data\n",
    "#Replacing Values(fix wrong values is to replace them)\n",
    "import pandas as pd\n",
    "df = pd.read_csv('abc.csv')\n",
    "df.loc[5,'calories'] = 445\n",
    "print(df.to_string())\n",
    "\n",
    "#Removing Rows\n",
    "for x in df.index:\n",
    "  if df.loc[x, \"calories\"] > 12:\n",
    "    df.drop(x, inplace = True)"
   ]
  },
  {
   "cell_type": "code",
   "execution_count": 78,
   "id": "7c59e449-bd84-468f-9d15-589138c2a3d7",
   "metadata": {},
   "outputs": [
    {
     "name": "stdout",
     "output_type": "stream",
     "text": [
      "0    False\n",
      "1    False\n",
      "2    False\n",
      "3    False\n",
      "4    False\n",
      "5    False\n",
      "dtype: bool\n",
      "   Unnamed: 0  Duration  Pulse  calories  age  date\n",
      "0           0        61    310       310   11    11\n",
      "1           1        60    117       553   17     7\n",
      "2           2        60    117       553   17     7\n",
      "3           3        45    109       509   19     9\n",
      "4           4        35    509       509   19     4\n",
      "5           5       103    102       102   12     2\n"
     ]
    }
   ],
   "source": [
    "#Removing Duplicates(drop_duplicates)\n",
    "import pandas as pd\n",
    "df = pd.read_csv('abc.csv')\n",
    "print(df.duplicated())\n",
    "#Removing Duplicates\n",
    "df.drop_duplicates(inplace = True)\n",
    "print(df.to_string())"
   ]
  }
 ],
 "metadata": {
  "kernelspec": {
   "display_name": "Python 3 (ipykernel)",
   "language": "python",
   "name": "python3"
  },
  "language_info": {
   "codemirror_mode": {
    "name": "ipython",
    "version": 3
   },
   "file_extension": ".py",
   "mimetype": "text/x-python",
   "name": "python",
   "nbconvert_exporter": "python",
   "pygments_lexer": "ipython3",
   "version": "3.12.4"
  }
 },
 "nbformat": 4,
 "nbformat_minor": 5
}
