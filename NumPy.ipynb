{
 "cells": [
  {
   "cell_type": "code",
   "execution_count": null,
   "id": "cc434810-550e-498f-93a5-70bbf6d17411",
   "metadata": {},
   "outputs": [],
   "source": [
    "#numpy(Python library used for working with arrays)\n",
    "#why use numpy\n",
    "NumPy aims to provide an array object that is up to 50x faster than traditional Python lists.\n",
    "The array object in NumPy is called ndarray, it provides a lot of supporting functions that make working with ndarray very easy.\n",
    "Arrays are very frequently used in data science, where speed and resources are very important.\n",
    "#Why is NumPy Faster Than Lists?\n",
    "NumPy arrays are stored at one continuous place in memory unlike lists, so processes can access and manipulate them very efficiently.\n",
    "This behavior is called locality of reference in computer science.\n",
    "#Which Language is NumPy written in?\n",
    "c or c++\n",
    "    "
   ]
  },
  {
   "cell_type": "code",
   "execution_count": 1,
   "id": "2f7b9a69-f6db-4ef6-ae13-e0e8cc0d025f",
   "metadata": {},
   "outputs": [
    {
     "name": "stdout",
     "output_type": "stream",
     "text": [
      "[1 2 3 4 5 6 7 8]\n"
     ]
    }
   ],
   "source": [
    "#numpy\n",
    "import numpy\n",
    "arr= numpy.array([1,2,3,4,5,6,7,8])\n",
    "print(arr)"
   ]
  },
  {
   "cell_type": "code",
   "execution_count": 2,
   "id": "26999e8a-53a1-47f4-9904-28abea0d037c",
   "metadata": {},
   "outputs": [
    {
     "name": "stdout",
     "output_type": "stream",
     "text": [
      "1.26.4\n"
     ]
    }
   ],
   "source": [
    "#Checking NumPy Version\n",
    "import numpy as np\n",
    "print(np.__version__)"
   ]
  },
  {
   "cell_type": "code",
   "execution_count": 3,
   "id": "8c77fbfe-82fd-4202-868d-fb8e0d7e0c8a",
   "metadata": {},
   "outputs": [
    {
     "name": "stdout",
     "output_type": "stream",
     "text": [
      "[1 4 2 6 8 7]\n"
     ]
    }
   ],
   "source": [
    "#creating array\n",
    "#create ndarray object(To create an ndarray, we can pass a list, tuple or any array-like object into the array() method, and it will be converted into an ndarray)\n",
    "import numpy as np \n",
    "arr=np.array((1,4,2,6,8,7))\n",
    "print(arr)"
   ]
  },
  {
   "cell_type": "code",
   "execution_count": 5,
   "id": "dbe501ba-682d-4194-9040-58b4b0b2f6fc",
   "metadata": {},
   "outputs": [
    {
     "name": "stdout",
     "output_type": "stream",
     "text": [
      "[178]\n"
     ]
    }
   ],
   "source": [
    "#Dimensions in Arrays\n",
    "# 0-d\n",
    "import numpy as np\n",
    "arr= np.array([178])\n",
    "print(arr)"
   ]
  },
  {
   "cell_type": "code",
   "execution_count": 6,
   "id": "9f4de6ea-d639-4660-b82a-55cbc9a42238",
   "metadata": {},
   "outputs": [
    {
     "name": "stdout",
     "output_type": "stream",
     "text": [
      "[1 2 3 4 5 6 7 8]\n"
     ]
    }
   ],
   "source": [
    "#1-d\n",
    "import numpy as np\n",
    "arr= np.array([1,2,3,4,5,6,7,8])\n",
    "print(arr)"
   ]
  },
  {
   "cell_type": "code",
   "execution_count": 8,
   "id": "3d5567c3-62dc-4252-9635-c15e19222275",
   "metadata": {},
   "outputs": [
    {
     "name": "stdout",
     "output_type": "stream",
     "text": [
      "[[1 2 3 4]\n",
      " [2 4 6 3]]\n"
     ]
    }
   ],
   "source": [
    "#2-d\n",
    "import numpy as np\n",
    "arr= np.array([[1,2,3,4],[2,4,6,3,]])\n",
    "print(arr)"
   ]
  },
  {
   "cell_type": "code",
   "execution_count": 11,
   "id": "3b53b694-68f4-4ff6-aade-64fad9a28e1f",
   "metadata": {},
   "outputs": [
    {
     "name": "stdout",
     "output_type": "stream",
     "text": [
      "[[[1 2 3 4]\n",
      "  [2 4 6 3]]\n",
      "\n",
      " [[2 4 5 6]\n",
      "  [4 6 5 4]]]\n"
     ]
    }
   ],
   "source": [
    "#3-d\n",
    "import numpy as np\n",
    "arr= np.array([[[1,2,3,4],[2,4,6,3,]],[[2,4,5,6,],[4,6,5,4]]])\n",
    "print(arr)"
   ]
  },
  {
   "cell_type": "code",
   "execution_count": 12,
   "id": "f60b0fc0-8788-47d1-a3d7-af0e49b9bae5",
   "metadata": {},
   "outputs": [
    {
     "name": "stdout",
     "output_type": "stream",
     "text": [
      "0\n",
      "1\n",
      "2\n",
      "3\n"
     ]
    }
   ],
   "source": [
    "#Check Number of Dimensions(NumPy Arrays provides the ndim attribute that returns an integer that tells us how many dimensions the array have.)\n",
    "import numpy as np\n",
    "a = np.array(42)\n",
    "b = np.array([1, 2, 3, 4, 5])\n",
    "c = np.array([[1, 2, 3], [4, 5, 6]])\n",
    "d = np.array([[[1, 2, 3], [4, 5, 6]], [[1, 2, 3], [4, 5, 6]]])\n",
    "\n",
    "print(a.ndim)\n",
    "print(b.ndim)\n",
    "print(c.ndim)\n",
    "print(d.ndim)\n",
    "\n"
   ]
  },
  {
   "cell_type": "code",
   "execution_count": 14,
   "id": "6cf50c9b-5af2-46bd-9b73-cde051e4b839",
   "metadata": {},
   "outputs": [
    {
     "name": "stdout",
     "output_type": "stream",
     "text": [
      "12\n"
     ]
    }
   ],
   "source": [
    "#array indexing\n",
    "#Access Array Elements\n",
    "import numpy as np\n",
    "arr = np.array([1,3, 2, 6,8, 4])\n",
    "print(arr[4]+arr[5])"
   ]
  },
  {
   "cell_type": "code",
   "execution_count": 15,
   "id": "a9b1c4f0-6e17-47af-b5cc-da2b42e8abc3",
   "metadata": {},
   "outputs": [
    {
     "name": "stdout",
     "output_type": "stream",
     "text": [
      "4th element of 2nd row: 9\n"
     ]
    }
   ],
   "source": [
    "#access 2-D array\n",
    "import numpy as np\n",
    "arr = np.array([[1,2,3,4,5], [6,7,8,9,10]])\n",
    "print('4th element of 2nd row:',arr[1,3])"
   ]
  },
  {
   "cell_type": "code",
   "execution_count": 18,
   "id": "fdd89be2-54ba-477f-8bfd-46925ac8f79d",
   "metadata": {},
   "outputs": [
    {
     "name": "stdout",
     "output_type": "stream",
     "text": [
      "5\n"
     ]
    }
   ],
   "source": [
    "##access 2-D array\n",
    "import numpy as np\n",
    "arr= np.array([[[1,2,3,4],[2,4,6,3,]],[[2,4,5,6,],[4,6,5,4]]])\n",
    "print(arr[1,1,2])"
   ]
  },
  {
   "cell_type": "code",
   "execution_count": 19,
   "id": "ce05ef85-b91e-4ee2-86d2-bd6c47200543",
   "metadata": {},
   "outputs": [
    {
     "name": "stdout",
     "output_type": "stream",
     "text": [
      "[1 3 5 7]\n"
     ]
    }
   ],
   "source": [
    "#slicing array(If we don't pass start its considered 0,If we don't pass end its considered length of array in that dimension,If we don't pass step its considered 1)\n",
    "import numpy as np\n",
    "arr = np.array([1, 2, 3, 4, 5, 6, 7])\n",
    "print(arr[::2])\n"
   ]
  },
  {
   "cell_type": "code",
   "execution_count": 20,
   "id": "b6df6d6b-2f55-4d71-86ab-38dbdd4d9b19",
   "metadata": {},
   "outputs": [
    {
     "name": "stdout",
     "output_type": "stream",
     "text": [
      "[7 8 9]\n"
     ]
    }
   ],
   "source": [
    "#slicing 2-d array\n",
    "import numpy as np\n",
    "arr = np.array([[1, 2, 3, 4, 5], [6, 7, 8, 9, 10]])\n",
    "print(arr[1, 1:4])"
   ]
  },
  {
   "cell_type": "code",
   "execution_count": 21,
   "id": "13098517-dbc0-4184-8e26-01f95e7c71b2",
   "metadata": {},
   "outputs": [
    {
     "name": "stdout",
     "output_type": "stream",
     "text": [
      "<U6\n"
     ]
    }
   ],
   "source": [
    "#data type(i - integer,b - boolean,u - unsigned integer,f - float,c - complex float,m - timedelta,M - datetime,O - object,S - string,U - unicode string,V - fixed chunk of memory for other type ( void ))\n",
    "import numpy as np\n",
    "arr = np.array(['apple', 'banana', 'cherry'])\n",
    "print(arr.dtype)"
   ]
  },
  {
   "cell_type": "code",
   "execution_count": 22,
   "id": "4d739f5b-be82-4e57-9e50-c025f585f4a1",
   "metadata": {},
   "outputs": [
    {
     "name": "stdout",
     "output_type": "stream",
     "text": [
      "[1 2 3 4]\n",
      "int32\n"
     ]
    }
   ],
   "source": [
    "#Creating Arrays With a Defined Data Type\n",
    "import numpy as np\n",
    "arr = np.array([1, 2, 3, 4], dtype='i4')\n",
    "print(arr)\n",
    "print(arr.dtype)"
   ]
  },
  {
   "cell_type": "code",
   "execution_count": 23,
   "id": "b8b0c6bb-c569-4104-8a9b-a31324ad4575",
   "metadata": {},
   "outputs": [
    {
     "name": "stdout",
     "output_type": "stream",
     "text": [
      "[ True False  True]\n",
      "bool\n"
     ]
    }
   ],
   "source": [
    "#Converting Data Type on Existing Arrays(astype)\n",
    "import numpy as np\n",
    "arr = np.array([1, 0, 4])\n",
    "newarr = arr.astype(bool)\n",
    "print(newarr)\n",
    "print(newarr.dtype)"
   ]
  },
  {
   "cell_type": "code",
   "execution_count": 24,
   "id": "63f18cf5-e5c5-4c08-8fdb-d147e0bec244",
   "metadata": {},
   "outputs": [
    {
     "name": "stdout",
     "output_type": "stream",
     "text": [
      "[3 5 4 6 2]\n",
      "[3 5 2 6 2]\n"
     ]
    }
   ],
   "source": [
    "#array copy(The copy owns the data and any changes made to the copy will not affect original array)\n",
    "import numpy as np\n",
    "arr=np.array([3,5,2,6,2])\n",
    "x=arr.copy()\n",
    "arr[2]=4\n",
    "print(arr)\n",
    "print(x)\n"
   ]
  },
  {
   "cell_type": "code",
   "execution_count": 25,
   "id": "1b3e228e-7094-494c-a5e8-10912ec9f83b",
   "metadata": {},
   "outputs": [
    {
     "name": "stdout",
     "output_type": "stream",
     "text": [
      "[3 6 1 4 5]\n",
      "[3 6 1 4 5]\n"
     ]
    }
   ],
   "source": [
    "#array view(The view does not own the data and any changes made to the view will affect the original array)\n",
    "import numpy as np\n",
    "arr =np.array([3,6,3,4,5])\n",
    "x=arr.view()\n",
    "arr[2]=1\n",
    "print(arr)\n",
    "print(x)"
   ]
  },
  {
   "cell_type": "code",
   "execution_count": 26,
   "id": "e06aa1e6-3726-4e64-a3d8-d97d9e7d99d7",
   "metadata": {},
   "outputs": [
    {
     "name": "stdout",
     "output_type": "stream",
     "text": [
      "None\n",
      "[1 2 3 4 5]\n"
     ]
    }
   ],
   "source": [
    "#Check if Array Owns its Data(copies owns the data, and views does not own the data)\n",
    "import numpy as np\n",
    "arr = np.array([1, 2, 3, 4, 5])\n",
    "x = arr.copy()\n",
    "y = arr.view()\n",
    "print(x.base)\n",
    "print(y.base)\n"
   ]
  },
  {
   "cell_type": "code",
   "execution_count": 27,
   "id": "022d1ba4-9cab-4e6a-8c4d-e1df16cd5c56",
   "metadata": {},
   "outputs": [
    {
     "name": "stdout",
     "output_type": "stream",
     "text": [
      "(2, 4)\n"
     ]
    }
   ],
   "source": [
    "#array shape(number of elements in each dimension)\n",
    "#(Get the Shape of an Array)\n",
    "import numpy as np\n",
    "arr = np.array([[1, 2, 3, 4], [5, 6, 7, 8]])\n",
    "print(arr.shape)"
   ]
  },
  {
   "cell_type": "code",
   "execution_count": 32,
   "id": "d0597202-7780-4a2a-b87b-e897a490687d",
   "metadata": {},
   "outputs": [
    {
     "name": "stdout",
     "output_type": "stream",
     "text": [
      "[[3 2 4]\n",
      " [5 3 6]\n",
      " [3 5 3]\n",
      " [6 7 8]]\n"
     ]
    }
   ],
   "source": [
    "#array reshaping(changing the shape of an array)\n",
    "#reshape from 1-d to 2-d(outermost dimension will have 4 arrays, each with 3 elements)\n",
    "import numpy as np\n",
    "arr=np.array([3,2,4,5,3,6,3,5,3,6,7,8])\n",
    "new=arr.reshape(4,3)\n",
    "print(new)\n"
   ]
  },
  {
   "cell_type": "code",
   "execution_count": 33,
   "id": "bb6c4529-fe47-4df5-8fe1-49e729cdcc80",
   "metadata": {},
   "outputs": [
    {
     "name": "stdout",
     "output_type": "stream",
     "text": [
      "[[[ 1  2]\n",
      "  [ 3  4]\n",
      "  [ 5  6]]\n",
      "\n",
      " [[ 7  8]\n",
      "  [ 9 10]\n",
      "  [11 12]]]\n"
     ]
    }
   ],
   "source": [
    "#array reshaping\n",
    "#reshape(outermost dimension will have 2 arrays that contains 3 arrays, each with 2 elements)\n",
    "import numpy as np\n",
    "arr = np.array([1, 2, 3, 4, 5, 6, 7, 8, 9, 10, 11, 12])\n",
    "newarr = arr.reshape(2, 3, 2)\n",
    "print(newarr)"
   ]
  },
  {
   "cell_type": "code",
   "execution_count": 34,
   "id": "1f06184f-c6b0-4af4-96ad-692d95dd16d0",
   "metadata": {},
   "outputs": [
    {
     "name": "stdout",
     "output_type": "stream",
     "text": [
      "[1 2 3 4 5 6]\n"
     ]
    }
   ],
   "source": [
    "#Flattening the arrays( converting a multidimensional array into a 1D array)\n",
    "import numpy as np\n",
    "arr = np.array([[1, 2, 3], [4, 5, 6]])\n",
    "newarr = arr.reshape(-1)\n",
    "print(newarr)\n"
   ]
  },
  {
   "cell_type": "code",
   "execution_count": 35,
   "id": "957cc557-66a1-4a9b-af6e-0541cb4a97fd",
   "metadata": {},
   "outputs": [
    {
     "name": "stdout",
     "output_type": "stream",
     "text": [
      "3\n",
      "5\n",
      "7\n"
     ]
    }
   ],
   "source": [
    "#Iterating Arrays(going through elements one by one)\n",
    "import numpy\n",
    "arr =np.array([3,5,7])\n",
    "for x in arr:\n",
    "    print(x)\n"
   ]
  },
  {
   "cell_type": "code",
   "execution_count": 36,
   "id": "ad5023a3-cd71-4101-82d8-6895c6495ab0",
   "metadata": {},
   "outputs": [
    {
     "name": "stdout",
     "output_type": "stream",
     "text": [
      "1\n",
      "2\n",
      "3\n",
      "4\n",
      "5\n",
      "6\n",
      "7\n",
      "8\n"
     ]
    }
   ],
   "source": [
    "#Iterating Arrays Using nditer(Iterating Arrays Using nditer())\n",
    "#Iterating on Each Scalar Element\n",
    "import numpy as np\n",
    "arr = np.array([[[1, 2], [3, 4]], [[5, 6], [7, 8]]])\n",
    "for x in np.nditer(arr):\n",
    "  print(x)"
   ]
  },
  {
   "cell_type": "code",
   "execution_count": 37,
   "id": "89f81ec5-6f51-4e15-a611-300c013590fb",
   "metadata": {},
   "outputs": [
    {
     "name": "stdout",
     "output_type": "stream",
     "text": [
      "b'1'\n",
      "b'2'\n",
      "b'3'\n"
     ]
    }
   ],
   "source": [
    "#Iterating Array With Different Data Types\n",
    "import numpy as np\n",
    "arr = np.array([1, 2, 3])\n",
    "for x in np.nditer(arr, flags=['buffered'], op_dtypes=['S']):\n",
    "  print(x)"
   ]
  },
  {
   "cell_type": "code",
   "execution_count": 38,
   "id": "165c1b69-cf33-4751-9d97-7c2c504213ee",
   "metadata": {},
   "outputs": [
    {
     "name": "stdout",
     "output_type": "stream",
     "text": [
      "1\n",
      "3\n",
      "5\n",
      "7\n"
     ]
    }
   ],
   "source": [
    "#Iterating With Different Step Size\n",
    "import numpy as np\n",
    "arr = np.array([[1, 2, 3, 4], [5, 6, 7, 8]])\n",
    "for x in np.nditer(arr[:, ::2]):\n",
    "  print(x)"
   ]
  },
  {
   "cell_type": "code",
   "execution_count": 39,
   "id": "49493d21-b9e1-4aaf-8683-6fe0a05f07e6",
   "metadata": {},
   "outputs": [
    {
     "name": "stdout",
     "output_type": "stream",
     "text": [
      "(0,) 1\n",
      "(1,) 2\n",
      "(2,) 3\n"
     ]
    }
   ],
   "source": [
    "#Enumerated Iteration Using ndenumerate()\n",
    "import numpy as np\n",
    "arr = np.array([1, 2, 3])\n",
    "for idx, x in np.ndenumerate(arr):\n",
    "  print(idx, x)"
   ]
  },
  {
   "cell_type": "code",
   "execution_count": 41,
   "id": "564a6894-3ce7-4464-a220-9d036f6c9999",
   "metadata": {},
   "outputs": [
    {
     "name": "stdout",
     "output_type": "stream",
     "text": [
      "[[1 2]\n",
      " [3 4]\n",
      " [5 6]\n",
      " [7 8]]\n"
     ]
    }
   ],
   "source": [
    "#Joining Array\n",
    "arr1=([[1,2],[3,4]])\n",
    "arr2=([[5,6],[7,8]])\n",
    "arr=np.concatenate((arr1,arr2),axis=0)\n",
    "print(arr)"
   ]
  },
  {
   "cell_type": "code",
   "execution_count": 43,
   "id": "26955d85-f11c-4931-9964-3b0e0b6c0872",
   "metadata": {},
   "outputs": [
    {
     "name": "stdout",
     "output_type": "stream",
     "text": [
      "[1 2 3 4 5 6]\n"
     ]
    }
   ],
   "source": [
    "#Joining Arrays Using Stack Functions\n",
    "#(hstack() to stack along rows)\n",
    "import numpy as np\n",
    "arr1 = np.array([1, 2, 3])\n",
    "arr2 = np.array([4, 5, 6])\n",
    "arr = np.hstack((arr1, arr2))\n",
    "print(arr)"
   ]
  },
  {
   "cell_type": "code",
   "execution_count": 47,
   "id": "177cdb25-06f1-4e60-9ddc-f2e39425789f",
   "metadata": {},
   "outputs": [
    {
     "name": "stdout",
     "output_type": "stream",
     "text": [
      "[[1 2 3]\n",
      " [4 5 6]]\n"
     ]
    }
   ],
   "source": [
    "#Joining Arrays Using Stack Functions\n",
    "#(vstack() to stack along columns)\n",
    "import numpy as np\n",
    "arr1 = np.array([1, 2, 3])\n",
    "arr2 = np.array([4, 5, 6])\n",
    "arr = np.vstack((arr1, arr2))\n",
    "print(arr)"
   ]
  },
  {
   "cell_type": "code",
   "execution_count": 46,
   "id": "ec097135-4d8b-4104-9bc4-1123b05887a3",
   "metadata": {},
   "outputs": [
    {
     "name": "stdout",
     "output_type": "stream",
     "text": [
      "[[[1 4]\n",
      "  [2 5]\n",
      "  [3 6]]]\n"
     ]
    }
   ],
   "source": [
    "#Joining Arrays Using Stack Functions\n",
    "#(dstack() to stack along height)\n",
    "import numpy as np\n",
    "arr1 = np.array([1, 2, 3])\n",
    "arr2 = np.array([4, 5, 6])\n",
    "arr = np.dstack((arr1, arr2))\n",
    "print(arr)"
   ]
  },
  {
   "cell_type": "code",
   "execution_count": 48,
   "id": "2e278975-4ea9-49af-889e-6bd78b3960c4",
   "metadata": {},
   "outputs": [
    {
     "name": "stdout",
     "output_type": "stream",
     "text": [
      "[array([2, 5]), array([3, 6]), array([7, 4])]\n"
     ]
    }
   ],
   "source": [
    "#Splitting Array(reverse operation of Joining.)\n",
    "import numpy as np\n",
    "arr=np.array([2,5,3,6,7,4])\n",
    "newarr=np.array_split(arr,3)\n",
    "print(newarr)"
   ]
  },
  {
   "cell_type": "code",
   "execution_count": 49,
   "id": "f09c82a1-9ebe-43f3-8ebe-37b611a5f7e4",
   "metadata": {},
   "outputs": [
    {
     "name": "stdout",
     "output_type": "stream",
     "text": [
      "[1 2]\n",
      "[3 4]\n",
      "[5 6]\n"
     ]
    }
   ],
   "source": [
    "#Split Into Arrays\n",
    "import numpy as np\n",
    "arr = np.array([1, 2, 3, 4, 5, 6])\n",
    "newarr = np.array_split(arr, 3)\n",
    "print(newarr[0])\n",
    "print(newarr[1])\n",
    "print(newarr[2])"
   ]
  },
  {
   "cell_type": "code",
   "execution_count": 50,
   "id": "7a08b871-23e0-46d5-970e-118d86e6bfd9",
   "metadata": {},
   "outputs": [
    {
     "name": "stdout",
     "output_type": "stream",
     "text": [
      "(array([1, 3, 5, 7], dtype=int64),)\n"
     ]
    }
   ],
   "source": [
    "#Searching Arrays( search an array for a certain value, and return the indexes that get a match)\n",
    "import numpy as np\n",
    "arr = np.array([1, 2, 3, 4, 5, 6, 7, 8])\n",
    "x = np.where(arr%2 == 0)\n",
    "print(x)"
   ]
  },
  {
   "cell_type": "code",
   "execution_count": 51,
   "id": "4e91f511-c08d-4cd9-9c76-cf51abe56a1e",
   "metadata": {},
   "outputs": [
    {
     "name": "stdout",
     "output_type": "stream",
     "text": [
      "[1 2 3]\n"
     ]
    }
   ],
   "source": [
    "#Search Sorted(performs a binary search in the array, and returns the index where the specified value would be inserted to maintain the search order)\n",
    "import numpy as np\n",
    "arr = np.array([1, 3, 5, 7])\n",
    "x = np.searchsorted(arr, [2, 4, 6])\n",
    "print(x)\n"
   ]
  },
  {
   "cell_type": "code",
   "execution_count": 52,
   "id": "c8da9fcc-c1e3-4756-b874-bcfc37f11d73",
   "metadata": {},
   "outputs": [
    {
     "name": "stdout",
     "output_type": "stream",
     "text": [
      "[1 3 4 7 8]\n"
     ]
    }
   ],
   "source": [
    "#Sorting Arrays\n",
    "import numpy as np\n",
    "arr=np.array([4,7,3,1,8])\n",
    "print(np.sort(arr))\n"
   ]
  },
  {
   "cell_type": "code",
   "execution_count": 53,
   "id": "c2175af2-339e-41fa-8ab8-09c399f7954b",
   "metadata": {},
   "outputs": [
    {
     "name": "stdout",
     "output_type": "stream",
     "text": [
      "[[2 3 4]\n",
      " [0 1 5]]\n"
     ]
    }
   ],
   "source": [
    "#Sorting a 2-D Array\n",
    "import numpy as np\n",
    "arr = np.array([[3, 2, 4], [5, 0, 1]])\n",
    "print(np.sort(arr))"
   ]
  },
  {
   "cell_type": "code",
   "execution_count": 54,
   "id": "ad5a2363-6b8e-45a5-a8fa-b1e17fcc1235",
   "metadata": {},
   "outputs": [
    {
     "name": "stdout",
     "output_type": "stream",
     "text": [
      "[41 43]\n"
     ]
    }
   ],
   "source": [
    "#Filter Array\n",
    "#Filter Arrays(Getting some elements out of an existing array and creating a new array out of them is called filtering)\n",
    "import numpy as np\n",
    "arr = np.array([41, 42, 43, 44])\n",
    "x = [True, False, True, False]\n",
    "newarr = arr[x]\n",
    "print(newarr)"
   ]
  },
  {
   "cell_type": "code",
   "execution_count": 55,
   "id": "c5488b5d-a9b6-4a3e-80ff-4e2221836ced",
   "metadata": {},
   "outputs": [
    {
     "name": "stdout",
     "output_type": "stream",
     "text": [
      "[False False  True  True]\n",
      "[43 44]\n"
     ]
    }
   ],
   "source": [
    "#Creating Filter\n",
    "import numpy as np\n",
    "arr = np.array([41, 42, 43, 44])\n",
    "filter_arr = arr > 42\n",
    "newarr = arr[filter_arr]\n",
    "print(filter_arr)\n",
    "print(newarr)"
   ]
  },
  {
   "cell_type": "code",
   "execution_count": 62,
   "id": "36cf06b4-ee8c-4687-a42d-b7583f756720",
   "metadata": {},
   "outputs": [
    {
     "name": "stdout",
     "output_type": "stream",
     "text": [
      "30\n",
      "0.22392234671662659\n",
      "[[ 4 33]\n",
      " [ 6 47]\n",
      " [11 10]\n",
      " [11 27]]\n",
      "[[0.38073163 0.68850592 0.30406948 0.82123716 0.38283365]\n",
      " [0.50061482 0.81529186 0.17662026 0.50586736 0.62859219]\n",
      " [0.85735601 0.32055052 0.43891707 0.68805655 0.45775441]]\n",
      "5\n",
      "[[5 3 7 3 3]\n",
      " [7 5 7 3 9]\n",
      " [3 3 7 5 9]]\n"
     ]
    }
   ],
   "source": [
    "#Random Numbers in NumPy\n",
    "#Generate Random Number\n",
    "from numpy import random\n",
    "a=random.randint(50)\n",
    "print(a)\n",
    "#Generate Random Float\n",
    "b=random.rand()\n",
    "print(b)\n",
    "#Generate Random Array(int)\n",
    "c=random.randint(50,size=(4,2))\n",
    "print(c)\n",
    "#Generate Random Array(float)\n",
    "d = random.rand(3, 5)\n",
    "print(d)\n",
    "#Generate Random Number From Array(choice)\n",
    "e = random.choice([3, 5, 7, 9])\n",
    "print(e)\n",
    "f = random.choice([3, 5, 7, 9], size=(3, 5))\n",
    "print(f)"
   ]
  },
  {
   "cell_type": "code",
   "execution_count": 63,
   "id": "74224c9b-6ea2-4019-bc82-7b1fa8a454e6",
   "metadata": {},
   "outputs": [
    {
     "name": "stdout",
     "output_type": "stream",
     "text": [
      "[7 3 7 7 7 7 5 7 7 7 5 7 7 7 5 5 7 7 7 5 5 3 3 3 5 7 7 5 7 7 7 7 5 5 7 5 5\n",
      " 7 7 5 7 5 7 5 7 5 5 7 7 5 7 7 7 7 5 7 5 7 7 5 7 5 7 7 7 7 3 7 7 7 5 7 7 5\n",
      " 7 7 5 7 7 7 7 5 7 7 5 5 5 7 5 7 7 5 7 7 5 7 5 3 3 7]\n"
     ]
    }
   ],
   "source": [
    "#Random Data Distribution\n",
    "from numpy import random\n",
    "x = random.choice([3, 5, 7, 9], p=[0.1, 0.3, 0.6, 0.0], size=(100))\n",
    "print(x)\n"
   ]
  },
  {
   "cell_type": "code",
   "execution_count": 64,
   "id": "5ac5d4cd-b350-4b24-a34f-fc5c8c29e1a6",
   "metadata": {},
   "outputs": [
    {
     "name": "stdout",
     "output_type": "stream",
     "text": [
      "[3 8 4 5 1]\n",
      "[7 5 1 2 8]\n"
     ]
    }
   ],
   "source": [
    "#Random Permutation\n",
    "from numpy import random\n",
    "import numpy as np\n",
    "#Shuffling Arrays\n",
    "\n",
    "arr1 = np.array([1, 4, 3,8, 5])\n",
    "random.shuffle(arr1)\n",
    "print(arr1)\n",
    "\n",
    "#Permutation of Arrays\n",
    "arr = np.array([1, 2, 7, 8, 5])\n",
    "print(random.permutation(arr))\n"
   ]
  },
  {
   "cell_type": "code",
   "execution_count": 65,
   "id": "67306b20-8935-4102-aa15-4f4ad211c773",
   "metadata": {},
   "outputs": [
    {
     "name": "stdout",
     "output_type": "stream",
     "text": [
      "[[-0.4511961  -1.31146925 -3.6881401 ]\n",
      " [-3.12991837 -0.12632907  3.85859854]]\n"
     ]
    }
   ],
   "source": [
    "#Normal Distribution(loc=mean,scale=standard deviation,size=shape of returned array)\n",
    "from numpy import random\n",
    "z = random.normal(loc=1, scale=2, size=(2, 3))\n",
    "print(z)\n"
   ]
  },
  {
   "cell_type": "code",
   "execution_count": 67,
   "id": "9da4ff7e-6f52-40b9-93ef-2c37dad41a1a",
   "metadata": {},
   "outputs": [
    {
     "name": "stderr",
     "output_type": "stream",
     "text": [
      "C:\\Users\\Hp\\AppData\\Local\\Temp\\ipykernel_19836\\4081980874.py:5: UserWarning: \n",
      "\n",
      "`distplot` is a deprecated function and will be removed in seaborn v0.14.0.\n",
      "\n",
      "Please adapt your code to use either `displot` (a figure-level function with\n",
      "similar flexibility) or `kdeplot` (an axes-level function for kernel density plots).\n",
      "\n",
      "For a guide to updating your code to use the new functions, please see\n",
      "https://gist.github.com/mwaskom/de44147ed2974457ad6372750bbe5751\n",
      "\n",
      "  sns.distplot(random.normal(size=1000), hist=False)\n"
     ]
    },
    {
     "data": {
      "image/png": "[encoded data removed]",
      "text/plain": [
       "<Figure size 640x480 with 1 Axes>"
      ]
     },
     "metadata": {},
     "output_type": "display_data"
    }
   ],
   "source": [
    "#Visualization of Normal Distribution\n",
    "from numpy import random\n",
    "import matplotlib.pyplot as plt\n",
    "import seaborn as sns\n",
    "sns.distplot(random.normal(size=1000), hist=False)\n",
    "plt.show()"
   ]
  },
  {
   "cell_type": "code",
   "execution_count": 68,
   "id": "6e1c8d77-2de4-4e37-98a1-11a85de374f5",
   "metadata": {},
   "outputs": [
    {
     "name": "stdout",
     "output_type": "stream",
     "text": [
      "[5 6 7 6 6 7 7 6 8 8]\n"
     ]
    }
   ],
   "source": [
    "#binomial distribution(n - number of trials,p - probability of occurence of each trial,size-shape of the returned array)\n",
    "from numpy import random\n",
    "a=random.binomial(n=10,p=0.5,size=10)\n",
    "print(a)"
   ]
  },
  {
   "cell_type": "code",
   "execution_count": 69,
   "id": "224f0056-71e5-4a70-a85e-38096c9013ce",
   "metadata": {},
   "outputs": [
    {
     "name": "stderr",
     "output_type": "stream",
     "text": [
      "C:\\Users\\Hp\\AppData\\Local\\Temp\\ipykernel_19836\\1124693461.py:5: UserWarning: \n",
      "\n",
      "`distplot` is a deprecated function and will be removed in seaborn v0.14.0.\n",
      "\n",
      "Please adapt your code to use either `displot` (a figure-level function with\n",
      "similar flexibility) or `histplot` (an axes-level function for histograms).\n",
      "\n",
      "For a guide to updating your code to use the new functions, please see\n",
      "https://gist.github.com/mwaskom/de44147ed2974457ad6372750bbe5751\n",
      "\n",
      "  sns.distplot(random.binomial(n=10, p=0.5, size=1000), hist=True, kde=False)\n"
     ]
    },
    {
     "data": {
      "image/png": "[encoded data removed]",
      "text/plain": [
       "<Figure size 640x480 with 1 Axes>"
      ]
     },
     "metadata": {},
     "output_type": "display_data"
    }
   ],
   "source": [
    "#Visualization of Binomial Distribution\n",
    "from numpy import random\n",
    "import matplotlib.pyplot as plt\n",
    "import seaborn as sns\n",
    "sns.distplot(random.binomial(n=10, p=0.5, size=1000), hist=True, kde=False)\n",
    "plt.show()"
   ]
  },
  {
   "cell_type": "code",
   "execution_count": 71,
   "id": "69c4517f-0aac-4354-89ec-3bc09cd1bb96",
   "metadata": {},
   "outputs": [
    {
     "name": "stdout",
     "output_type": "stream",
     "text": [
      "[4 3 4 0 1 2 1 3 2 1]\n"
     ]
    }
   ],
   "source": [
    "#Poisson Distribution([discrete] lam-rate or known number of occurrences ,size - The shape of the returned array)\n",
    "#If someone eats twice a day what is the probability he will eat thrice?\n",
    "from numpy import random\n",
    "b = random.poisson(lam=2, size=10)\n",
    "print(b)"
   ]
  },
  {
   "cell_type": "code",
   "execution_count": 72,
   "id": "055c9151-db14-4d1b-89fe-1c4a468ec052",
   "metadata": {},
   "outputs": [
    {
     "name": "stderr",
     "output_type": "stream",
     "text": [
      "C:\\Users\\Hp\\AppData\\Local\\Temp\\ipykernel_19836\\3286679940.py:5: UserWarning: \n",
      "\n",
      "`distplot` is a deprecated function and will be removed in seaborn v0.14.0.\n",
      "\n",
      "Please adapt your code to use either `displot` (a figure-level function with\n",
      "similar flexibility) or `histplot` (an axes-level function for histograms).\n",
      "\n",
      "For a guide to updating your code to use the new functions, please see\n",
      "https://gist.github.com/mwaskom/de44147ed2974457ad6372750bbe5751\n",
      "\n",
      "  sns.distplot(random.poisson(lam=2, size=1000), kde=False)\n"
     ]
    },
    {
     "data": {
      "image/png": "[encoded data removed]",
      "text/plain": [
       "<Figure size 640x480 with 1 Axes>"
      ]
     },
     "metadata": {},
     "output_type": "display_data"
    }
   ],
   "source": [
    "#Visualization of Poisson Distribution\n",
    "from numpy import random\n",
    "import matplotlib.pyplot as plt\n",
    "import seaborn as sns\n",
    "sns.distplot(random.poisson(lam=2, size=1000), kde=False)\n",
    "plt.show()"
   ]
  },
  {
   "cell_type": "code",
   "execution_count": 73,
   "id": "b5b20ea7-d726-41d2-bcb3-8b98f3cd2489",
   "metadata": {},
   "outputs": [
    {
     "name": "stdout",
     "output_type": "stream",
     "text": [
      "[[0.71832433 0.09872722 0.04638029]\n",
      " [0.69914609 0.10970761 0.18451613]]\n"
     ]
    }
   ],
   "source": [
    "#Uniform Distribution([Used to describe probability where every event has equal chances of occuring])\n",
    "#E.g. Generation of random numbers(a - lower bound - default 0 .0,b - upper bound - default 1.0,size -shape of the returned array)\n",
    "from numpy import random\n",
    "x = random.uniform(size=(2, 3))\n",
    "print(x)"
   ]
  },
  {
   "cell_type": "code",
   "execution_count": 74,
   "id": "094eeecb-ce23-47bf-a856-9a3d2984bda1",
   "metadata": {},
   "outputs": [
    {
     "name": "stderr",
     "output_type": "stream",
     "text": [
      "C:\\Users\\Hp\\AppData\\Local\\Temp\\ipykernel_19836\\809663100.py:5: UserWarning: \n",
      "\n",
      "`distplot` is a deprecated function and will be removed in seaborn v0.14.0.\n",
      "\n",
      "Please adapt your code to use either `displot` (a figure-level function with\n",
      "similar flexibility) or `kdeplot` (an axes-level function for kernel density plots).\n",
      "\n",
      "For a guide to updating your code to use the new functions, please see\n",
      "https://gist.github.com/mwaskom/de44147ed2974457ad6372750bbe5751\n",
      "\n",
      "  sns.distplot(random.uniform(size=1000), hist=False)\n"
     ]
    },
    {
     "data": {
      "image/png": "[encoded data removed]",
      "text/plain": [
       "<Figure size 640x480 with 1 Axes>"
      ]
     },
     "metadata": {},
     "output_type": "display_data"
    }
   ],
   "source": [
    "#Visualization of Uniform Distribution\n",
    "from numpy import random\n",
    "import matplotlib.pyplot as plt\n",
    "import seaborn as sns\n",
    "sns.distplot(random.uniform(size=1000), hist=False)\n",
    "plt.show()"
   ]
  },
  {
   "cell_type": "code",
   "execution_count": 75,
   "id": "91156fef-92eb-4585-ba61-1102276aae76",
   "metadata": {},
   "outputs": [
    {
     "name": "stdout",
     "output_type": "stream",
     "text": [
      "[[-4.6302619   5.01017224 -1.55695569]\n",
      " [ 5.86434078 -2.95289579  1.74951873]]\n"
     ]
    }
   ],
   "source": [
    "#Logistic Distribution(used to describe growth)\n",
    "from numpy import random\n",
    "y = random.logistic(loc=1, scale=2, size=(2, 3))\n",
    "print(y)"
   ]
  },
  {
   "cell_type": "code",
   "execution_count": 76,
   "id": "df5a29d9-8877-44cd-8db0-730f813bfebe",
   "metadata": {},
   "outputs": [
    {
     "name": "stderr",
     "output_type": "stream",
     "text": [
      "C:\\Users\\Hp\\AppData\\Local\\Temp\\ipykernel_19836\\3190197117.py:5: UserWarning: \n",
      "\n",
      "`distplot` is a deprecated function and will be removed in seaborn v0.14.0.\n",
      "\n",
      "Please adapt your code to use either `displot` (a figure-level function with\n",
      "similar flexibility) or `kdeplot` (an axes-level function for kernel density plots).\n",
      "\n",
      "For a guide to updating your code to use the new functions, please see\n",
      "https://gist.github.com/mwaskom/de44147ed2974457ad6372750bbe5751\n",
      "\n",
      "  sns.distplot(random.logistic(size=1000), hist=False)\n"
     ]
    },
    {
     "data": {
      "image/png": "[encoded data removed]",
      "text/plain": [
       "<Figure size 640x480 with 1 Axes>"
      ]
     },
     "metadata": {},
     "output_type": "display_data"
    }
   ],
   "source": [
    "#Visualization of Logistic Distribution\n",
    "from numpy import random\n",
    "import matplotlib.pyplot as plt\n",
    "import seaborn as sns\n",
    "sns.distplot(random.logistic(size=1000), hist=False)\n",
    "plt.show()"
   ]
  },
  {
   "cell_type": "code",
   "execution_count": 77,
   "id": "0c37a4fd-58fd-4d14-bfb9-f6a81af4300f",
   "metadata": {},
   "outputs": [
    {
     "name": "stdout",
     "output_type": "stream",
     "text": [
      "[3 0 1 1 1 0]\n"
     ]
    }
   ],
   "source": [
    "#Multinomial distribution(generalization of binomial distribution)\n",
    "#n - number of possible outcomes,pvals - list of probabilties of outcomes\n",
    "from numpy import random\n",
    "t = random.multinomial(n=6, pvals=[1/6, 1/6, 1/6, 1/6, 1/6, 1/6])\n",
    "print(t)"
   ]
  },
  {
   "cell_type": "code",
   "execution_count": 78,
   "id": "c1ea9ad2-846e-458f-82da-dc3c30010923",
   "metadata": {},
   "outputs": [
    {
     "name": "stdout",
     "output_type": "stream",
     "text": [
      "[[1.82377494 0.90020187 0.63412743]\n",
      " [0.73877346 1.0111506  6.66124731]]\n"
     ]
    }
   ],
   "source": [
    "#(Exponential Distribution)used for describing time till next event e.g. failure/success etc\n",
    "#scale inverse of rate ,size -shape of returned array\n",
    "from numpy import random\n",
    "x = random.exponential(scale=2, size=(2, 3))\n",
    "print(x)"
   ]
  },
  {
   "cell_type": "code",
   "execution_count": 79,
   "id": "9212b971-8854-4e3b-853c-8325b4262caf",
   "metadata": {},
   "outputs": [
    {
     "name": "stderr",
     "output_type": "stream",
     "text": [
      "C:\\Users\\Hp\\AppData\\Local\\Temp\\ipykernel_19836\\2093046169.py:5: UserWarning: \n",
      "\n",
      "`distplot` is a deprecated function and will be removed in seaborn v0.14.0.\n",
      "\n",
      "Please adapt your code to use either `displot` (a figure-level function with\n",
      "similar flexibility) or `kdeplot` (an axes-level function for kernel density plots).\n",
      "\n",
      "For a guide to updating your code to use the new functions, please see\n",
      "https://gist.github.com/mwaskom/de44147ed2974457ad6372750bbe5751\n",
      "\n",
      "  sns.distplot(random.exponential(size=1000), hist=False)\n"
     ]
    },
    {
     "data": {
      "image/png": "[encoded data removed]",
      "text/plain": [
       "<Figure size 640x480 with 1 Axes>"
      ]
     },
     "metadata": {},
     "output_type": "display_data"
    }
   ],
   "source": [
    "#Visualization of Exponential Distribution\n",
    "from numpy import random\n",
    "import matplotlib.pyplot as plt\n",
    "import seaborn as sns\n",
    "sns.distplot(random.exponential(size=1000), hist=False)\n",
    "plt.show()"
   ]
  },
  {
   "cell_type": "code",
   "execution_count": 80,
   "id": "2e10d747-12e1-4958-a438-c9beef9595f2",
   "metadata": {},
   "outputs": [
    {
     "name": "stdout",
     "output_type": "stream",
     "text": [
      "[[6.09681881 1.81969275 4.10378953]\n",
      " [0.04171068 1.07673509 2.13935142]]\n"
     ]
    }
   ],
   "source": [
    "#Chi Square Distribution(used as a basis to verify the hypothesis)\n",
    "#df-degree of freedom,size-shape of returned array\n",
    "from numpy import random\n",
    "x = random.chisquare(df=2, size=(2, 3))\n",
    "print(x)"
   ]
  },
  {
   "cell_type": "code",
   "execution_count": 81,
   "id": "63e12ac8-2e70-4671-83f0-fbaa276438f5",
   "metadata": {},
   "outputs": [
    {
     "name": "stderr",
     "output_type": "stream",
     "text": [
      "C:\\Users\\Hp\\AppData\\Local\\Temp\\ipykernel_19836\\2720876206.py:5: UserWarning: \n",
      "\n",
      "`distplot` is a deprecated function and will be removed in seaborn v0.14.0.\n",
      "\n",
      "Please adapt your code to use either `displot` (a figure-level function with\n",
      "similar flexibility) or `kdeplot` (an axes-level function for kernel density plots).\n",
      "\n",
      "For a guide to updating your code to use the new functions, please see\n",
      "https://gist.github.com/mwaskom/de44147ed2974457ad6372750bbe5751\n",
      "\n",
      "  sns.distplot(random.chisquare(df=1, size=1000), hist=False)\n"
     ]
    },
    {
     "data": {
      "image/png": "[encoded data removed]",
      "text/plain": [
       "<Figure size 640x480 with 1 Axes>"
      ]
     },
     "metadata": {},
     "output_type": "display_data"
    }
   ],
   "source": [
    "#Visualization of Chi Square Distribution\n",
    "from numpy import random\n",
    "import matplotlib.pyplot as plt\n",
    "import seaborn as sns\n",
    "sns.distplot(random.chisquare(df=1, size=1000), hist=False)\n",
    "plt.show()"
   ]
  },
  {
   "cell_type": "code",
   "execution_count": 82,
   "id": "7e00ab73-9b87-44d8-a00e-fac6ebd17bdf",
   "metadata": {},
   "outputs": [
    {
     "name": "stdout",
     "output_type": "stream",
     "text": [
      "[[1.6828384  4.34503442 0.60411065]\n",
      " [1.93088198 2.30347859 1.35518846]]\n"
     ]
    }
   ],
   "source": [
    "#Rayleigh Distribution(used in signal processing)\n",
    "#scale:- (standard deviation) decides how flat the distribution will be default 1.0),size - The shape of the returned array\n",
    "from numpy import random\n",
    "g = random.rayleigh(scale=2, size=(2, 3))\n",
    "print(g)"
   ]
  },
  {
   "cell_type": "code",
   "execution_count": 83,
   "id": "643c37d5-38ea-4719-b240-c361af80bac2",
   "metadata": {},
   "outputs": [
    {
     "name": "stderr",
     "output_type": "stream",
     "text": [
      "C:\\Users\\Hp\\AppData\\Local\\Temp\\ipykernel_19836\\703971003.py:5: UserWarning: \n",
      "\n",
      "`distplot` is a deprecated function and will be removed in seaborn v0.14.0.\n",
      "\n",
      "Please adapt your code to use either `displot` (a figure-level function with\n",
      "similar flexibility) or `kdeplot` (an axes-level function for kernel density plots).\n",
      "\n",
      "For a guide to updating your code to use the new functions, please see\n",
      "https://gist.github.com/mwaskom/de44147ed2974457ad6372750bbe5751\n",
      "\n",
      "  sns.distplot(random.rayleigh(size=1000), hist=False)\n"
     ]
    },
    {
     "data": {
      "image/png": "[encoded data removed]",
      "text/plain": [
       "<Figure size 640x480 with 1 Axes>"
      ]
     },
     "metadata": {},
     "output_type": "display_data"
    }
   ],
   "source": [
    "#Visualization of Rayleigh Distribution\n",
    "from numpy import random\n",
    "import matplotlib.pyplot as plt\n",
    "import seaborn as sns\n",
    "sns.distplot(random.rayleigh(size=1000), hist=False)\n",
    "plt.show()"
   ]
  },
  {
   "cell_type": "code",
   "execution_count": 84,
   "id": "56ba82f6-75c1-4c32-bd31-225d42544147",
   "metadata": {},
   "outputs": [
    {
     "name": "stdout",
     "output_type": "stream",
     "text": [
      "[[6.50993151 0.75841982 5.85809515]\n",
      " [0.00718913 0.09096219 4.90391838]]\n"
     ]
    }
   ],
   "source": [
    "#Pareto Distribution()Pareto's law i.e. 80-20 distribution (20% factors cause 80% outcome)\n",
    "#a - shape parameter,size - The shape of the returned array\n",
    "from numpy import random\n",
    "p = random.pareto(a=2, size=(2, 3))\n",
    "print(p)"
   ]
  },
  {
   "cell_type": "code",
   "execution_count": 86,
   "id": "7dd1709d-3bd2-48e1-8e18-afca6c0bde2e",
   "metadata": {},
   "outputs": [
    {
     "name": "stderr",
     "output_type": "stream",
     "text": [
      "C:\\Users\\Hp\\AppData\\Local\\Temp\\ipykernel_19836\\662567594.py:5: UserWarning: \n",
      "\n",
      "`distplot` is a deprecated function and will be removed in seaborn v0.14.0.\n",
      "\n",
      "Please adapt your code to use either `displot` (a figure-level function with\n",
      "similar flexibility) or `histplot` (an axes-level function for histograms).\n",
      "\n",
      "For a guide to updating your code to use the new functions, please see\n",
      "https://gist.github.com/mwaskom/de44147ed2974457ad6372750bbe5751\n",
      "\n",
      "  sns.distplot(random.pareto(a=2, size=1000), kde=False)\n"
     ]
    },
    {
     "data": {
      "image/png": "[encoded data removed]",
      "text/plain": [
       "<Figure size 640x480 with 1 Axes>"
      ]
     },
     "metadata": {},
     "output_type": "display_data"
    }
   ],
   "source": [
    "#Visualization of Pareto Distribution\n",
    "from numpy import random\n",
    "import matplotlib.pyplot as plt\n",
    "import seaborn as sns\n",
    "sns.distplot(random.pareto(a=2, size=1000), kde=False)\n",
    "plt.show()"
   ]
  },
  {
   "cell_type": "code",
   "execution_count": 87,
   "id": "34fd5ede-565c-48ae-9639-04642d983dc8",
   "metadata": {},
   "outputs": [
    {
     "name": "stdout",
     "output_type": "stream",
     "text": [
      "[[1 1 1]\n",
      " [1 1 1]]\n"
     ]
    }
   ],
   "source": [
    "#Zipf distributions(used to sample data based on zipf's law)\n",
    "#a - distribution parameter,size - The shape of the returned array\n",
    "from numpy import random\n",
    "z = random.zipf(a=2, size=(2, 3))\n",
    "print(z)"
   ]
  },
  {
   "cell_type": "code",
   "execution_count": 88,
   "id": "726df7ce-9514-44eb-9544-51814f963a05",
   "metadata": {},
   "outputs": [
    {
     "name": "stderr",
     "output_type": "stream",
     "text": [
      "C:\\Users\\Hp\\AppData\\Local\\Temp\\ipykernel_19836\\554333546.py:6: UserWarning: \n",
      "\n",
      "`distplot` is a deprecated function and will be removed in seaborn v0.14.0.\n",
      "\n",
      "Please adapt your code to use either `displot` (a figure-level function with\n",
      "similar flexibility) or `histplot` (an axes-level function for histograms).\n",
      "\n",
      "For a guide to updating your code to use the new functions, please see\n",
      "https://gist.github.com/mwaskom/de44147ed2974457ad6372750bbe5751\n",
      "\n",
      "  sns.distplot(x[x<10], kde=False)\n"
     ]
    },
    {
     "data": {
      "image/png": "[encoded data removed]",
      "text/plain": [
       "<Figure size 640x480 with 1 Axes>"
      ]
     },
     "metadata": {},
     "output_type": "display_data"
    }
   ],
   "source": [
    "#Visualization of Zipf Distribution\n",
    "from numpy import random\n",
    "import matplotlib.pyplot as plt\n",
    "import seaborn as sns\n",
    "x = random.zipf(a=2, size=1000)\n",
    "sns.distplot(x[x<10], kde=False)\n",
    "plt.show()"
   ]
  },
  {
   "cell_type": "code",
   "execution_count": null,
   "id": "47c67f9e-7512-4022-a63e-27cc405a8531",
   "metadata": {},
   "outputs": [],
   "source": [
    "#NumPy ufuncs(\"Universal Functions\")\n",
    "#Why use ufuncs?\n",
    "#ufuncs are used to implement vectorization in NumPy which is way faster than iterating over elements.\n",
    "#ufuncs also take additional arguments, like:\n",
    "#where boolean array or condition defining where the operations should take place.\n",
    "#dtype defining the return type of elements.\n",
    "#out output array where the return value should be copied.\n",
    "\n"
   ]
  },
  {
   "cell_type": "code",
   "execution_count": 89,
   "id": "3746ee42-809a-4936-bae0-071706fa3954",
   "metadata": {},
   "outputs": [
    {
     "name": "stdout",
     "output_type": "stream",
     "text": [
      "[ 4 11 11 12  5]\n"
     ]
    }
   ],
   "source": [
    "#Vectorization(Converting iterative statements into a vector based operation)\n",
    "import numpy as np\n",
    "x=[1,4,6,8,5]\n",
    "y=[3,7,5,4,0]\n",
    "z=np.add(x,y)\n",
    "print(z)"
   ]
  },
  {
   "cell_type": "code",
   "execution_count": 91,
   "id": "922d523c-5f5c-4644-81ed-bcb915a00fa8",
   "metadata": {},
   "outputs": [
    {
     "name": "stdout",
     "output_type": "stream",
     "text": [
      "[5 6 11 13]\n"
     ]
    }
   ],
   "source": [
    "#Create Your Own ufunc\n",
    "#How To Create Your Own ufunc\n",
    "#The frompyfunc() method takes the following arguments:\n",
    "# 1.function - the name of the function.\n",
    "# 2.inputs - the number of input arguments (arrays).\n",
    "# 3.outputs - the number of output arrays.\n",
    "import numpy as np\n",
    "def add(a,b):\n",
    "    return a+b\n",
    "add=np.frompyfunc(add,2,1)\n",
    "print(add([1,3,5,6],[4,3,6,7]))"
   ]
  },
  {
   "cell_type": "code",
   "execution_count": 94,
   "id": "c9cbfc0e-d272-403b-8cc1-6cacdf612757",
   "metadata": {},
   "outputs": [
    {
     "name": "stdout",
     "output_type": "stream",
     "text": [
      "(array([ 3,  2,  3,  5, 25,  1]), array([ 1,  6,  3,  0,  0, 27]))\n"
     ]
    }
   ],
   "source": [
    "#Simple Arithmetic(addition,subtract,multiply,divide,remainder,,power,divmod,absolute)\n",
    "import numpy as np\n",
    "arr1 = np.array([10, 20, 30, 40, 50, 60])\n",
    "arr2 = np.array([3, 7, 9, 8, 2, 33])\n",
    "newarr = np.divmod(arr1, arr2)\n",
    "print(newarr)"
   ]
  },
  {
   "cell_type": "code",
   "execution_count": 97,
   "id": "d719a41d-a53c-402c-8b10-371f3ee8b14c",
   "metadata": {},
   "outputs": [
    {
     "name": "stdout",
     "output_type": "stream",
     "text": [
      "[-3.  1.]\n",
      "[-1.  6.]\n",
      "[-1.  9.]\n",
      "[-0. 10.]\n",
      "-0.355\n"
     ]
    }
   ],
   "source": [
    "#Rounding Decimals(truncation,fix,rounding,floor,ceil)\n",
    "import numpy as np\n",
    "#trunc(Remove the decimals, and return the float number closest to zero)\n",
    "a =np.trunc([-3.2344,1.53436])\n",
    "print(a)\n",
    "#fix(Remove the decimals, and return the float number closest to zero)\n",
    "b =np.fix([-1.2344,6.536])\n",
    "print(b)\n",
    "#floor(rounds off decimal to nearest lower integer)\n",
    "f=np.floor([-.35547,9.43535])\n",
    "print(f)\n",
    "#ceil(rounds off decimal to nearest upper integer)\n",
    "c=np.ceil([-.35547,9.43535])\n",
    "print(c)\n",
    "#Rounding( increments preceding digit or decimal by 1)\n",
    "r=np.around(-.35547,3)\n",
    "print(r)"
   ]
  },
  {
   "cell_type": "code",
   "execution_count": 100,
   "id": "47c627d3-eaa5-4a33-ac31-10c168cdfd0b",
   "metadata": {},
   "outputs": [
    {
     "name": "stdout",
     "output_type": "stream",
     "text": [
      "[0.         1.         1.5849625  2.         2.32192809 2.5849625\n",
      " 2.80735492 3.         3.169925  ]\n",
      "[0.         0.30103    0.47712125 0.60205999 0.69897    0.77815125\n",
      " 0.84509804 0.90308999 0.95424251]\n",
      "[0.         0.69314718 1.09861229 1.38629436 1.60943791 1.79175947\n",
      " 1.94591015 2.07944154 2.19722458]\n",
      "1.7005483074552052\n"
     ]
    }
   ],
   "source": [
    "#NumPy Logs(.arange)\n",
    "#base 2\n",
    "import numpy as np\n",
    "arr = np.arange(1, 10)\n",
    "print(np.log2(arr))\n",
    "#base 10\n",
    "import numpy as np\n",
    "arr = np.arange(1, 10)\n",
    "print(np.log10(arr))\n",
    "#natural log/base e\n",
    "import numpy as np\n",
    "arr = np.arange(1, 10)\n",
    "print(np.log(arr))\n",
    "#at Any Base\n",
    "from math import log\n",
    "import numpy as np\n",
    "nplog = np.frompyfunc(log, 2, 1)\n",
    "print(nplog(100, 15))"
   ]
  },
  {
   "cell_type": "code",
   "execution_count": 102,
   "id": "09d3b566-54e6-4cad-84e0-c259fb928a88",
   "metadata": {},
   "outputs": [
    {
     "name": "stdout",
     "output_type": "stream",
     "text": [
      "[ 4  7 14]\n"
     ]
    }
   ],
   "source": [
    "#Summations(happens over n elements)\n",
    "import numpy as np\n",
    "arr1 = np.array([1, 5, 8])\n",
    "arr2 = np.array([3, 2, 6])\n",
    "newarr = np.sum([arr1, arr2], axis=1)\n",
    "newarr = np.sum([arr1, arr2], axis=0)\n",
    "print(newarr)\n"
   ]
  },
  {
   "cell_type": "code",
   "execution_count": 103,
   "id": "5422c980-a2b5-441b-b711-a6b7e10856c7",
   "metadata": {},
   "outputs": [
    {
     "name": "stdout",
     "output_type": "stream",
     "text": [
      "[ 1  5 13]\n"
     ]
    }
   ],
   "source": [
    "#Cummulative Sum( partially adding the elements in array)\n",
    "import numpy as np\n",
    "arr = np.array([1, 4, 8])\n",
    "newarr = np.cumsum(arr)\n",
    "print(newarr)\n"
   ]
  },
  {
   "cell_type": "code",
   "execution_count": 105,
   "id": "a795f1e3-8b4e-4dd8-afe8-71c10492a28f",
   "metadata": {},
   "outputs": [
    {
     "name": "stdout",
     "output_type": "stream",
     "text": [
      "[  24 1680]\n"
     ]
    }
   ],
   "source": [
    "#NumPy Products\n",
    "import numpy as np\n",
    "arr1 = np.array([1, 2, 3, 4])\n",
    "arr2 = np.array([5, 6, 7, 8])\n",
    "newarr = np.prod([arr1, arr2], axis=1)\n",
    "print(newarr)"
   ]
  },
  {
   "cell_type": "code",
   "execution_count": 106,
   "id": "fff322be-1fe8-438a-bca0-150c29f73ee9",
   "metadata": {},
   "outputs": [
    {
     "name": "stdout",
     "output_type": "stream",
     "text": [
      "[   5   30  210 1680]\n"
     ]
    }
   ],
   "source": [
    "#Cummulative Product\n",
    "import numpy as np\n",
    "arr = np.array([5, 6, 7, 8])\n",
    "newarr = np.cumprod(arr)\n",
    "print(newarr)"
   ]
  },
  {
   "cell_type": "code",
   "execution_count": 107,
   "id": "c774ff21-1ec2-45ad-a4d7-e09fc6c1c803",
   "metadata": {},
   "outputs": [
    {
     "name": "stdout",
     "output_type": "stream",
     "text": [
      "[  5  10 -20]\n"
     ]
    }
   ],
   "source": [
    "#Differences(subtracting two successive elements)\n",
    "import numpy as np\n",
    "arr = np.array([10, 15, 25, 5])\n",
    "newarr = np.diff(arr)\n",
    "print(newarr)"
   ]
  },
  {
   "cell_type": "code",
   "execution_count": 108,
   "id": "c2c559c6-d980-4055-8765-d70c79f54806",
   "metadata": {},
   "outputs": [
    {
     "name": "stdout",
     "output_type": "stream",
     "text": [
      "30\n"
     ]
    }
   ],
   "source": [
    "#Finding LCM (reduce())\n",
    "import numpy as np\n",
    "arr = np.array([3, 6, 10])\n",
    "x = np.lcm.reduce(arr)\n",
    "print(x)"
   ]
  },
  {
   "cell_type": "code",
   "execution_count": 109,
   "id": "f463e573-45b5-4702-8a17-c11564c36e8b",
   "metadata": {},
   "outputs": [
    {
     "name": "stdout",
     "output_type": "stream",
     "text": [
      "4\n"
     ]
    }
   ],
   "source": [
    "#Finding GCD\n",
    "import numpy as np\n",
    "arr = np.array([20, 8, 32, 36, 64,4])\n",
    "x = np.gcd.reduce(arr)\n",
    "print(x)"
   ]
  },
  {
   "cell_type": "code",
   "execution_count": 110,
   "id": "e1296d8a-2f14-4050-a7ab-8445d76988f1",
   "metadata": {},
   "outputs": [
    {
     "name": "stdout",
     "output_type": "stream",
     "text": [
      "[3 4]\n"
     ]
    }
   ],
   "source": [
    "#set operation(union ,intersection, symmetric diff,diff)\n",
    "import numpy as np\n",
    "arr1 = np.array([1, 2, 3, 4])\n",
    "arr2 = np.array([3, 4, 5, 6])\n",
    "newarr = np.intersect1d(arr1, arr2, assume_unique=True)\n",
    "print(newarr)"
   ]
  }
 ],
 "metadata": {
  "kernelspec": {
   "display_name": "Python 3 (ipykernel)",
   "language": "python",
   "name": "python3"
  },
  "language_info": {
   "codemirror_mode": {
    "name": "ipython",
    "version": 3
   },
   "file_extension": ".py",
   "mimetype": "text/x-python",
   "name": "python",
   "nbconvert_exporter": "python",
   "pygments_lexer": "ipython3",
   "version": "3.12.4"
  }
 },
 "nbformat": 4,
 "nbformat_minor": 5
}
